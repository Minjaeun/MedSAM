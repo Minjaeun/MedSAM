{
 "cells": [
  {
   "attachments": {},
   "cell_type": "markdown",
   "metadata": {},
   "source": [
    "# Fine-tune SAM on customized datasets (2D example)\n",
    "1. Prepare original 2D images `data/MedSAMDemo_2D/` (Download link:https://drive.google.com/file/d/18GhVEODbTi17jSeBXdeLQ7vHPdtlTYXK/view?usp=share_link) \n",
    "2. Run `pre_grey_rgb2D.py` for pre-processing. Expected output: `./data/demo2D_vit_b/demo2d.npz`\n",
    "3. Start this fine-tuning tutorial"
   ]
  },
  {
   "cell_type": "code",
   "execution_count": 71,
   "metadata": {},
   "outputs": [],
   "source": [
    "import numpy as np\n",
    "import matplotlib.pyplot as plt\n",
    "import os\n",
    "join = os.path.join\n",
    "from tqdm import tqdm\n",
    "import torch\n",
    "from torch.utils.data import Dataset, DataLoader\n",
    "import monai\n",
    "from segment_anything import SamPredictor, sam_model_registry\n",
    "from segment_anything.utils.transforms import ResizeLongestSide\n",
    "from utils.SurfaceDice import compute_dice_coefficient\n",
    "# set seeds\n",
    "torch.manual_seed(2023)\n",
    "np.random.seed(2023)"
   ]
  },
  {
   "cell_type": "code",
   "execution_count": 72,
   "metadata": {},
   "outputs": [],
   "source": [
    "#%% create a dataset class to load npz data and return back image embeddings and ground truth\n",
    "class NpzDataset(Dataset): \n",
    "    def __init__(self, data_root):\n",
    "        self.data_root = data_root\n",
    "        self.npz_files = sorted(os.listdir(self.data_root)) \n",
    "        self.npz_data = [np.load(join(data_root, f)) for f in self.npz_files]\n",
    "        # this implementation is ugly but it works (and is also fast for feeding data to GPU) if your server has enough RAM\n",
    "        # as an alternative, you can also use a list of npy files and load them one by one\n",
    "        self.ori_gts = np.vstack([d['gts'] for d in self.npz_data])\n",
    "        self.img_embeddings = np.vstack([d['img_embeddings'] for d in self.npz_data])\n",
    "        print(f\"{self.img_embeddings.shape=}, {self.ori_gts.shape=}\")\n",
    "    \n",
    "    def __len__(self):\n",
    "        return self.ori_gts.shape[0]\n",
    "\n",
    "    def __getitem__(self, index):\n",
    "        img_embed = self.img_embeddings[index]\n",
    "        gt2D = self.ori_gts[index]\n",
    "        y_indices, x_indices = np.where(gt2D > 0)\n",
    "        x_min, x_max = np.min(x_indices), np.max(x_indices)\n",
    "        y_min, y_max = np.min(y_indices), np.max(y_indices)\n",
    "        # add perturbation to bounding box coordinates\n",
    "        H, W = gt2D.shape\n",
    "        x_min = max(0, x_min - np.random.randint(0, 20))\n",
    "        x_max = min(W, x_max + np.random.randint(0, 20))\n",
    "        y_min = max(0, y_min - np.random.randint(0, 20))\n",
    "        y_max = min(H, y_max + np.random.randint(0, 20))\n",
    "        bboxes = np.array([x_min, y_min, x_max, y_max])\n",
    "        # convert img embedding, mask, bounding box to torch tensor\n",
    "        return torch.tensor(img_embed).float(), torch.tensor(gt2D[None, :,:]).long(), torch.tensor(bboxes).float()"
   ]
  },
  {
   "cell_type": "code",
   "execution_count": 73,
   "metadata": {},
   "outputs": [
    {
     "name": "stdout",
     "output_type": "stream",
     "text": [
      "self.img_embeddings.shape=(456, 256, 64, 64), self.ori_gts.shape=(456, 256, 256)\n",
      "img_embed.shape=torch.Size([8, 256, 64, 64]), gt2D.shape=torch.Size([8, 1, 256, 256]), bboxes.shape=torch.Size([8, 4])\n"
     ]
    }
   ],
   "source": [
    "# %% test dataset class and dataloader\n",
    "npz_tr_path = 'data/demo2D_vit_b'\n",
    "demo_dataset = NpzDataset(npz_tr_path)\n",
    "demo_dataloader = DataLoader(demo_dataset, batch_size=8, shuffle=True)\n",
    "for img_embed, gt2D, bboxes in demo_dataloader:\n",
    "    # img_embed: (B, 256, 64, 64), gt2D: (B, 1, 256, 256), bboxes: (B, 4)\n",
    "    print(f\"{img_embed.shape=}, {gt2D.shape=}, {bboxes.shape=}\")\n",
    "    break"
   ]
  },
  {
   "cell_type": "code",
   "execution_count": 74,
   "metadata": {},
   "outputs": [],
   "source": [
    "# %% set up model for fine-tuning \n",
    "# train data path\n",
    "npz_tr_path = 'data/demo2D_vit_b'\n",
    "work_dir = './work_dir'\n",
    "task_name = 'demo2D'\n",
    "# prepare SAM model\n",
    "model_type = 'vit_b'\n",
    "checkpoint = 'work_dir/SAM/sam_vit_b_01ec64.pth'\n",
    "device = 'cuda:0'\n",
    "model_save_path = join(work_dir, task_name)\n",
    "os.makedirs(model_save_path, exist_ok=True) #directory 생성\n",
    "sam_model = sam_model_registry[model_type](checkpoint=checkpoint).to(device)\n",
    "sam_model.train()\n",
    "# Set up the optimizer, hyperparameter tuning will improve performance here\n",
    "optimizer = torch.optim.Adam(sam_model.mask_decoder.parameters(), lr=1e-5, weight_decay=0)\n",
    "seg_loss = monai.losses.DiceCELoss(sigmoid=True, squared_pred=True, reduction='mean')"
   ]
  },
  {
   "cell_type": "code",
   "execution_count": 158,
   "metadata": {},
   "outputs": [
    {
     "name": "stdout",
     "output_type": "stream",
     "text": [
      "self.img_embeddings.shape=(456, 256, 64, 64), self.ori_gts.shape=(456, 256, 256)\n"
     ]
    },
    {
     "name": "stderr",
     "output_type": "stream",
     "text": [
      "100%|██████████| 8/8 [00:02<00:00,  3.02it/s]\n"
     ]
    },
    {
     "name": "stdout",
     "output_type": "stream",
     "text": [
      "EPOCH: 0, Loss: 0.11585455600704465\n"
     ]
    },
    {
     "name": "stderr",
     "output_type": "stream",
     "text": [
      "100%|██████████| 8/8 [00:02<00:00,  3.05it/s]\n"
     ]
    },
    {
     "name": "stdout",
     "output_type": "stream",
     "text": [
      "EPOCH: 1, Loss: 0.11042679526976176\n"
     ]
    },
    {
     "name": "stderr",
     "output_type": "stream",
     "text": [
      "100%|██████████| 8/8 [00:02<00:00,  3.04it/s]\n"
     ]
    },
    {
     "name": "stdout",
     "output_type": "stream",
     "text": [
      "EPOCH: 2, Loss: 0.10693189395325524\n"
     ]
    },
    {
     "name": "stderr",
     "output_type": "stream",
     "text": [
      "100%|██████████| 8/8 [00:02<00:00,  2.97it/s]\n"
     ]
    },
    {
     "name": "stdout",
     "output_type": "stream",
     "text": [
      "EPOCH: 3, Loss: 0.10773409051554543\n"
     ]
    },
    {
     "name": "stderr",
     "output_type": "stream",
     "text": [
      "100%|██████████| 8/8 [00:02<00:00,  2.99it/s]\n"
     ]
    },
    {
     "name": "stdout",
     "output_type": "stream",
     "text": [
      "EPOCH: 4, Loss: 0.10232586307185036\n"
     ]
    },
    {
     "name": "stderr",
     "output_type": "stream",
     "text": [
      "100%|██████████| 8/8 [00:02<00:00,  2.99it/s]\n"
     ]
    },
    {
     "name": "stdout",
     "output_type": "stream",
     "text": [
      "EPOCH: 5, Loss: 0.09821970335074834\n"
     ]
    },
    {
     "name": "stderr",
     "output_type": "stream",
     "text": [
      "100%|██████████| 8/8 [00:02<00:00,  2.99it/s]\n"
     ]
    },
    {
     "name": "stdout",
     "output_type": "stream",
     "text": [
      "EPOCH: 6, Loss: 0.1006416848727635\n"
     ]
    },
    {
     "name": "stderr",
     "output_type": "stream",
     "text": [
      "100%|██████████| 8/8 [00:02<00:00,  3.01it/s]\n"
     ]
    },
    {
     "name": "stdout",
     "output_type": "stream",
     "text": [
      "EPOCH: 7, Loss: 0.0984463883297784\n"
     ]
    },
    {
     "name": "stderr",
     "output_type": "stream",
     "text": [
      "100%|██████████| 8/8 [00:02<00:00,  3.04it/s]\n"
     ]
    },
    {
     "name": "stdout",
     "output_type": "stream",
     "text": [
      "EPOCH: 8, Loss: 0.09648459511143821\n"
     ]
    },
    {
     "name": "stderr",
     "output_type": "stream",
     "text": [
      "100%|██████████| 8/8 [00:02<00:00,  3.01it/s]\n"
     ]
    },
    {
     "name": "stdout",
     "output_type": "stream",
     "text": [
      "EPOCH: 9, Loss: 0.09693187475204468\n"
     ]
    },
    {
     "name": "stderr",
     "output_type": "stream",
     "text": [
      "100%|██████████| 8/8 [00:02<00:00,  3.02it/s]\n"
     ]
    },
    {
     "name": "stdout",
     "output_type": "stream",
     "text": [
      "EPOCH: 10, Loss: 0.10141143734966006\n"
     ]
    },
    {
     "name": "stderr",
     "output_type": "stream",
     "text": [
      "100%|██████████| 8/8 [00:02<00:00,  3.00it/s]\n"
     ]
    },
    {
     "name": "stdout",
     "output_type": "stream",
     "text": [
      "EPOCH: 11, Loss: 0.09306872423206057\n"
     ]
    },
    {
     "name": "stderr",
     "output_type": "stream",
     "text": [
      "100%|██████████| 8/8 [00:02<00:00,  3.00it/s]\n"
     ]
    },
    {
     "name": "stdout",
     "output_type": "stream",
     "text": [
      "EPOCH: 12, Loss: 0.09648195547716958\n"
     ]
    },
    {
     "name": "stderr",
     "output_type": "stream",
     "text": [
      "100%|██████████| 8/8 [00:02<00:00,  2.89it/s]\n"
     ]
    },
    {
     "name": "stdout",
     "output_type": "stream",
     "text": [
      "EPOCH: 13, Loss: 0.09185051066534859\n"
     ]
    },
    {
     "name": "stderr",
     "output_type": "stream",
     "text": [
      "100%|██████████| 8/8 [00:02<00:00,  3.02it/s]\n"
     ]
    },
    {
     "name": "stdout",
     "output_type": "stream",
     "text": [
      "EPOCH: 14, Loss: 0.09421733447483607\n"
     ]
    },
    {
     "name": "stderr",
     "output_type": "stream",
     "text": [
      "100%|██████████| 8/8 [00:02<00:00,  3.02it/s]\n"
     ]
    },
    {
     "name": "stdout",
     "output_type": "stream",
     "text": [
      "EPOCH: 15, Loss: 0.09324920922517776\n"
     ]
    },
    {
     "name": "stderr",
     "output_type": "stream",
     "text": [
      "100%|██████████| 8/8 [00:02<00:00,  3.04it/s]\n"
     ]
    },
    {
     "name": "stdout",
     "output_type": "stream",
     "text": [
      "EPOCH: 16, Loss: 0.09077755255358559\n"
     ]
    },
    {
     "name": "stderr",
     "output_type": "stream",
     "text": [
      "100%|██████████| 8/8 [00:02<00:00,  3.02it/s]\n"
     ]
    },
    {
     "name": "stdout",
     "output_type": "stream",
     "text": [
      "EPOCH: 17, Loss: 0.09173517142023359\n"
     ]
    },
    {
     "name": "stderr",
     "output_type": "stream",
     "text": [
      "100%|██████████| 8/8 [00:02<00:00,  3.03it/s]\n"
     ]
    },
    {
     "name": "stdout",
     "output_type": "stream",
     "text": [
      "EPOCH: 18, Loss: 0.08660939655133656\n"
     ]
    },
    {
     "name": "stderr",
     "output_type": "stream",
     "text": [
      "100%|██████████| 8/8 [00:02<00:00,  3.05it/s]\n"
     ]
    },
    {
     "name": "stdout",
     "output_type": "stream",
     "text": [
      "EPOCH: 19, Loss: 0.08580822710480009\n"
     ]
    },
    {
     "name": "stderr",
     "output_type": "stream",
     "text": [
      "100%|██████████| 8/8 [00:02<00:00,  3.05it/s]\n"
     ]
    },
    {
     "name": "stdout",
     "output_type": "stream",
     "text": [
      "EPOCH: 20, Loss: 0.08689866321427482\n"
     ]
    },
    {
     "name": "stderr",
     "output_type": "stream",
     "text": [
      "100%|██████████| 8/8 [00:02<00:00,  3.03it/s]\n"
     ]
    },
    {
     "name": "stdout",
     "output_type": "stream",
     "text": [
      "EPOCH: 21, Loss: 0.08689965573804719\n"
     ]
    },
    {
     "name": "stderr",
     "output_type": "stream",
     "text": [
      "100%|██████████| 8/8 [00:02<00:00,  3.04it/s]\n"
     ]
    },
    {
     "name": "stdout",
     "output_type": "stream",
     "text": [
      "EPOCH: 22, Loss: 0.08215401428086418\n"
     ]
    },
    {
     "name": "stderr",
     "output_type": "stream",
     "text": [
      "100%|██████████| 8/8 [00:02<00:00,  3.03it/s]\n"
     ]
    },
    {
     "name": "stdout",
     "output_type": "stream",
     "text": [
      "EPOCH: 23, Loss: 0.0835912259561675\n"
     ]
    },
    {
     "name": "stderr",
     "output_type": "stream",
     "text": [
      "100%|██████████| 8/8 [00:02<00:00,  3.03it/s]\n"
     ]
    },
    {
     "name": "stdout",
     "output_type": "stream",
     "text": [
      "EPOCH: 24, Loss: 0.08476991632155009\n"
     ]
    },
    {
     "name": "stderr",
     "output_type": "stream",
     "text": [
      "100%|██████████| 8/8 [00:02<00:00,  3.01it/s]\n"
     ]
    },
    {
     "name": "stdout",
     "output_type": "stream",
     "text": [
      "EPOCH: 25, Loss: 0.08407657380614962\n"
     ]
    },
    {
     "name": "stderr",
     "output_type": "stream",
     "text": [
      "100%|██████████| 8/8 [00:02<00:00,  3.02it/s]\n"
     ]
    },
    {
     "name": "stdout",
     "output_type": "stream",
     "text": [
      "EPOCH: 26, Loss: 0.08164621357406888\n"
     ]
    },
    {
     "name": "stderr",
     "output_type": "stream",
     "text": [
      "100%|██████████| 8/8 [00:02<00:00,  3.02it/s]\n"
     ]
    },
    {
     "name": "stdout",
     "output_type": "stream",
     "text": [
      "EPOCH: 27, Loss: 0.08395546674728394\n"
     ]
    },
    {
     "name": "stderr",
     "output_type": "stream",
     "text": [
      "100%|██████████| 8/8 [00:02<00:00,  3.03it/s]\n"
     ]
    },
    {
     "name": "stdout",
     "output_type": "stream",
     "text": [
      "EPOCH: 28, Loss: 0.08805358409881592\n"
     ]
    },
    {
     "name": "stderr",
     "output_type": "stream",
     "text": [
      "100%|██████████| 8/8 [00:02<00:00,  3.03it/s]\n"
     ]
    },
    {
     "name": "stdout",
     "output_type": "stream",
     "text": [
      "EPOCH: 29, Loss: 0.07943067167486463\n"
     ]
    },
    {
     "name": "stderr",
     "output_type": "stream",
     "text": [
      "100%|██████████| 8/8 [00:02<00:00,  3.03it/s]\n"
     ]
    },
    {
     "name": "stdout",
     "output_type": "stream",
     "text": [
      "EPOCH: 30, Loss: 0.07815525680780411\n"
     ]
    },
    {
     "name": "stderr",
     "output_type": "stream",
     "text": [
      "100%|██████████| 8/8 [00:02<00:00,  3.00it/s]\n"
     ]
    },
    {
     "name": "stdout",
     "output_type": "stream",
     "text": [
      "EPOCH: 31, Loss: 0.08463884145021439\n"
     ]
    },
    {
     "name": "stderr",
     "output_type": "stream",
     "text": [
      "100%|██████████| 8/8 [00:02<00:00,  3.04it/s]\n"
     ]
    },
    {
     "name": "stdout",
     "output_type": "stream",
     "text": [
      "EPOCH: 32, Loss: 0.08089358785322734\n"
     ]
    },
    {
     "name": "stderr",
     "output_type": "stream",
     "text": [
      "100%|██████████| 8/8 [00:02<00:00,  3.02it/s]\n"
     ]
    },
    {
     "name": "stdout",
     "output_type": "stream",
     "text": [
      "EPOCH: 33, Loss: 0.08956835631813322\n"
     ]
    },
    {
     "name": "stderr",
     "output_type": "stream",
     "text": [
      "100%|██████████| 8/8 [00:02<00:00,  3.03it/s]\n"
     ]
    },
    {
     "name": "stdout",
     "output_type": "stream",
     "text": [
      "EPOCH: 34, Loss: 0.0763235113450459\n"
     ]
    },
    {
     "name": "stderr",
     "output_type": "stream",
     "text": [
      "100%|██████████| 8/8 [00:02<00:00,  3.01it/s]\n"
     ]
    },
    {
     "name": "stdout",
     "output_type": "stream",
     "text": [
      "EPOCH: 35, Loss: 0.0789349153637886\n"
     ]
    },
    {
     "name": "stderr",
     "output_type": "stream",
     "text": [
      "100%|██████████| 8/8 [00:02<00:00,  3.02it/s]\n"
     ]
    },
    {
     "name": "stdout",
     "output_type": "stream",
     "text": [
      "EPOCH: 36, Loss: 0.07865444357906069\n"
     ]
    },
    {
     "name": "stderr",
     "output_type": "stream",
     "text": [
      "100%|██████████| 8/8 [00:02<00:00,  3.03it/s]\n"
     ]
    },
    {
     "name": "stdout",
     "output_type": "stream",
     "text": [
      "EPOCH: 37, Loss: 0.08166512634072985\n"
     ]
    },
    {
     "name": "stderr",
     "output_type": "stream",
     "text": [
      "100%|██████████| 8/8 [00:02<00:00,  3.03it/s]\n"
     ]
    },
    {
     "name": "stdout",
     "output_type": "stream",
     "text": [
      "EPOCH: 38, Loss: 0.07876879083258766\n"
     ]
    },
    {
     "name": "stderr",
     "output_type": "stream",
     "text": [
      "100%|██████████| 8/8 [00:02<00:00,  3.02it/s]\n"
     ]
    },
    {
     "name": "stdout",
     "output_type": "stream",
     "text": [
      "EPOCH: 39, Loss: 0.0821310526558331\n"
     ]
    },
    {
     "name": "stderr",
     "output_type": "stream",
     "text": [
      "100%|██████████| 8/8 [00:02<00:00,  3.02it/s]\n"
     ]
    },
    {
     "name": "stdout",
     "output_type": "stream",
     "text": [
      "EPOCH: 40, Loss: 0.07572415790387563\n"
     ]
    },
    {
     "name": "stderr",
     "output_type": "stream",
     "text": [
      "100%|██████████| 8/8 [00:02<00:00,  3.01it/s]\n"
     ]
    },
    {
     "name": "stdout",
     "output_type": "stream",
     "text": [
      "EPOCH: 41, Loss: 0.07565341836639813\n"
     ]
    },
    {
     "name": "stderr",
     "output_type": "stream",
     "text": [
      "100%|██████████| 8/8 [00:02<00:00,  3.02it/s]\n"
     ]
    },
    {
     "name": "stdout",
     "output_type": "stream",
     "text": [
      "EPOCH: 42, Loss: 0.07522271839635712\n"
     ]
    },
    {
     "name": "stderr",
     "output_type": "stream",
     "text": [
      "100%|██████████| 8/8 [00:02<00:00,  3.05it/s]\n"
     ]
    },
    {
     "name": "stdout",
     "output_type": "stream",
     "text": [
      "EPOCH: 43, Loss: 0.0814342727618558\n"
     ]
    },
    {
     "name": "stderr",
     "output_type": "stream",
     "text": [
      "100%|██████████| 8/8 [00:02<00:00,  3.05it/s]\n"
     ]
    },
    {
     "name": "stdout",
     "output_type": "stream",
     "text": [
      "EPOCH: 44, Loss: 0.07729497711573328\n"
     ]
    },
    {
     "name": "stderr",
     "output_type": "stream",
     "text": [
      "100%|██████████| 8/8 [00:02<00:00,  3.01it/s]\n"
     ]
    },
    {
     "name": "stdout",
     "output_type": "stream",
     "text": [
      "EPOCH: 45, Loss: 0.07772443230663027\n"
     ]
    },
    {
     "name": "stderr",
     "output_type": "stream",
     "text": [
      "100%|██████████| 8/8 [00:02<00:00,  3.03it/s]\n"
     ]
    },
    {
     "name": "stdout",
     "output_type": "stream",
     "text": [
      "EPOCH: 46, Loss: 0.07798990075077329\n"
     ]
    },
    {
     "name": "stderr",
     "output_type": "stream",
     "text": [
      "100%|██████████| 8/8 [00:02<00:00,  3.03it/s]\n"
     ]
    },
    {
     "name": "stdout",
     "output_type": "stream",
     "text": [
      "EPOCH: 47, Loss: 0.0760962340448584\n"
     ]
    },
    {
     "name": "stderr",
     "output_type": "stream",
     "text": [
      "100%|██████████| 8/8 [00:02<00:00,  3.02it/s]\n"
     ]
    },
    {
     "name": "stdout",
     "output_type": "stream",
     "text": [
      "EPOCH: 48, Loss: 0.07494999894074031\n"
     ]
    },
    {
     "name": "stderr",
     "output_type": "stream",
     "text": [
      "100%|██████████| 8/8 [00:02<00:00,  3.03it/s]\n"
     ]
    },
    {
     "name": "stdout",
     "output_type": "stream",
     "text": [
      "EPOCH: 49, Loss: 0.07537300565413066\n"
     ]
    },
    {
     "name": "stderr",
     "output_type": "stream",
     "text": [
      "100%|██████████| 8/8 [00:02<00:00,  3.02it/s]\n"
     ]
    },
    {
     "name": "stdout",
     "output_type": "stream",
     "text": [
      "EPOCH: 50, Loss: 0.0734098127910069\n"
     ]
    },
    {
     "name": "stderr",
     "output_type": "stream",
     "text": [
      "100%|██████████| 8/8 [00:02<00:00,  3.03it/s]\n"
     ]
    },
    {
     "name": "stdout",
     "output_type": "stream",
     "text": [
      "EPOCH: 51, Loss: 0.07288360648921557\n"
     ]
    },
    {
     "name": "stderr",
     "output_type": "stream",
     "text": [
      "100%|██████████| 8/8 [00:02<00:00,  2.99it/s]\n"
     ]
    },
    {
     "name": "stdout",
     "output_type": "stream",
     "text": [
      "EPOCH: 52, Loss: 0.07431669852563313\n"
     ]
    },
    {
     "name": "stderr",
     "output_type": "stream",
     "text": [
      "100%|██████████| 8/8 [00:02<00:00,  3.02it/s]\n"
     ]
    },
    {
     "name": "stdout",
     "output_type": "stream",
     "text": [
      "EPOCH: 53, Loss: 0.07868481267775808\n"
     ]
    },
    {
     "name": "stderr",
     "output_type": "stream",
     "text": [
      "100%|██████████| 8/8 [00:02<00:00,  3.05it/s]\n"
     ]
    },
    {
     "name": "stdout",
     "output_type": "stream",
     "text": [
      "EPOCH: 54, Loss: 0.0712749335382666\n"
     ]
    },
    {
     "name": "stderr",
     "output_type": "stream",
     "text": [
      "100%|██████████| 8/8 [00:02<00:00,  3.04it/s]\n"
     ]
    },
    {
     "name": "stdout",
     "output_type": "stream",
     "text": [
      "EPOCH: 55, Loss: 0.07320487339581762\n"
     ]
    },
    {
     "name": "stderr",
     "output_type": "stream",
     "text": [
      "100%|██████████| 8/8 [00:02<00:00,  3.02it/s]\n"
     ]
    },
    {
     "name": "stdout",
     "output_type": "stream",
     "text": [
      "EPOCH: 56, Loss: 0.07250906260950225\n"
     ]
    },
    {
     "name": "stderr",
     "output_type": "stream",
     "text": [
      "100%|██████████| 8/8 [00:02<00:00,  2.98it/s]\n"
     ]
    },
    {
     "name": "stdout",
     "output_type": "stream",
     "text": [
      "EPOCH: 57, Loss: 0.07333725850496974\n"
     ]
    },
    {
     "name": "stderr",
     "output_type": "stream",
     "text": [
      "100%|██████████| 8/8 [00:02<00:00,  3.03it/s]\n"
     ]
    },
    {
     "name": "stdout",
     "output_type": "stream",
     "text": [
      "EPOCH: 58, Loss: 0.07166170222418648\n"
     ]
    },
    {
     "name": "stderr",
     "output_type": "stream",
     "text": [
      "100%|██████████| 8/8 [00:02<00:00,  3.04it/s]\n"
     ]
    },
    {
     "name": "stdout",
     "output_type": "stream",
     "text": [
      "EPOCH: 59, Loss: 0.06986378292952265\n"
     ]
    },
    {
     "name": "stderr",
     "output_type": "stream",
     "text": [
      "100%|██████████| 8/8 [00:02<00:00,  3.04it/s]\n"
     ]
    },
    {
     "name": "stdout",
     "output_type": "stream",
     "text": [
      "EPOCH: 60, Loss: 0.06805428223950523\n"
     ]
    },
    {
     "name": "stderr",
     "output_type": "stream",
     "text": [
      "100%|██████████| 8/8 [00:02<00:00,  3.01it/s]\n"
     ]
    },
    {
     "name": "stdout",
     "output_type": "stream",
     "text": [
      "EPOCH: 61, Loss: 0.06943214684724808\n"
     ]
    },
    {
     "name": "stderr",
     "output_type": "stream",
     "text": [
      "100%|██████████| 8/8 [00:02<00:00,  3.03it/s]\n"
     ]
    },
    {
     "name": "stdout",
     "output_type": "stream",
     "text": [
      "EPOCH: 62, Loss: 0.07245073999677386\n"
     ]
    },
    {
     "name": "stderr",
     "output_type": "stream",
     "text": [
      "100%|██████████| 8/8 [00:02<00:00,  3.01it/s]\n"
     ]
    },
    {
     "name": "stdout",
     "output_type": "stream",
     "text": [
      "EPOCH: 63, Loss: 0.06885033633027758\n"
     ]
    },
    {
     "name": "stderr",
     "output_type": "stream",
     "text": [
      "100%|██████████| 8/8 [00:02<00:00,  3.02it/s]\n"
     ]
    },
    {
     "name": "stdout",
     "output_type": "stream",
     "text": [
      "EPOCH: 64, Loss: 0.06703778994934899\n"
     ]
    },
    {
     "name": "stderr",
     "output_type": "stream",
     "text": [
      "100%|██████████| 8/8 [00:02<00:00,  3.00it/s]\n"
     ]
    },
    {
     "name": "stdout",
     "output_type": "stream",
     "text": [
      "EPOCH: 65, Loss: 0.0686046811086791\n"
     ]
    },
    {
     "name": "stderr",
     "output_type": "stream",
     "text": [
      "100%|██████████| 8/8 [00:02<00:00,  3.01it/s]\n"
     ]
    },
    {
     "name": "stdout",
     "output_type": "stream",
     "text": [
      "EPOCH: 66, Loss: 0.06698810043079513\n"
     ]
    },
    {
     "name": "stderr",
     "output_type": "stream",
     "text": [
      "100%|██████████| 8/8 [00:02<00:00,  3.02it/s]\n"
     ]
    },
    {
     "name": "stdout",
     "output_type": "stream",
     "text": [
      "EPOCH: 67, Loss: 0.06882828580481666\n"
     ]
    },
    {
     "name": "stderr",
     "output_type": "stream",
     "text": [
      "100%|██████████| 8/8 [00:02<00:00,  3.05it/s]\n"
     ]
    },
    {
     "name": "stdout",
     "output_type": "stream",
     "text": [
      "EPOCH: 68, Loss: 0.06615371257066727\n"
     ]
    },
    {
     "name": "stderr",
     "output_type": "stream",
     "text": [
      "100%|██████████| 8/8 [00:02<00:00,  3.02it/s]\n"
     ]
    },
    {
     "name": "stdout",
     "output_type": "stream",
     "text": [
      "EPOCH: 69, Loss: 0.07003591901489667\n"
     ]
    },
    {
     "name": "stderr",
     "output_type": "stream",
     "text": [
      "100%|██████████| 8/8 [00:02<00:00,  3.02it/s]\n"
     ]
    },
    {
     "name": "stdout",
     "output_type": "stream",
     "text": [
      "EPOCH: 70, Loss: 0.0688125379383564\n"
     ]
    },
    {
     "name": "stderr",
     "output_type": "stream",
     "text": [
      "100%|██████████| 8/8 [00:02<00:00,  3.03it/s]\n"
     ]
    },
    {
     "name": "stdout",
     "output_type": "stream",
     "text": [
      "EPOCH: 71, Loss: 0.07074547026838575\n"
     ]
    },
    {
     "name": "stderr",
     "output_type": "stream",
     "text": [
      "100%|██████████| 8/8 [00:02<00:00,  3.04it/s]\n"
     ]
    },
    {
     "name": "stdout",
     "output_type": "stream",
     "text": [
      "EPOCH: 72, Loss: 0.06720708789569992\n"
     ]
    },
    {
     "name": "stderr",
     "output_type": "stream",
     "text": [
      "100%|██████████| 8/8 [00:02<00:00,  3.04it/s]\n"
     ]
    },
    {
     "name": "stdout",
     "output_type": "stream",
     "text": [
      "EPOCH: 73, Loss: 0.06656555884650775\n"
     ]
    },
    {
     "name": "stderr",
     "output_type": "stream",
     "text": [
      "100%|██████████| 8/8 [00:02<00:00,  3.02it/s]\n"
     ]
    },
    {
     "name": "stdout",
     "output_type": "stream",
     "text": [
      "EPOCH: 74, Loss: 0.06487302748220307\n"
     ]
    },
    {
     "name": "stderr",
     "output_type": "stream",
     "text": [
      "100%|██████████| 8/8 [00:02<00:00,  3.01it/s]\n"
     ]
    },
    {
     "name": "stdout",
     "output_type": "stream",
     "text": [
      "EPOCH: 75, Loss: 0.06691766902804375\n"
     ]
    },
    {
     "name": "stderr",
     "output_type": "stream",
     "text": [
      "100%|██████████| 8/8 [00:02<00:00,  3.03it/s]\n"
     ]
    },
    {
     "name": "stdout",
     "output_type": "stream",
     "text": [
      "EPOCH: 76, Loss: 0.06485355006796974\n"
     ]
    },
    {
     "name": "stderr",
     "output_type": "stream",
     "text": [
      "100%|██████████| 8/8 [00:02<00:00,  3.01it/s]\n"
     ]
    },
    {
     "name": "stdout",
     "output_type": "stream",
     "text": [
      "EPOCH: 77, Loss: 0.06649324670433998\n"
     ]
    },
    {
     "name": "stderr",
     "output_type": "stream",
     "text": [
      "100%|██████████| 8/8 [00:02<00:00,  3.02it/s]\n"
     ]
    },
    {
     "name": "stdout",
     "output_type": "stream",
     "text": [
      "EPOCH: 78, Loss: 0.0707810212458883\n"
     ]
    },
    {
     "name": "stderr",
     "output_type": "stream",
     "text": [
      "100%|██████████| 8/8 [00:02<00:00,  3.02it/s]\n"
     ]
    },
    {
     "name": "stdout",
     "output_type": "stream",
     "text": [
      "EPOCH: 79, Loss: 0.06347299154315676\n"
     ]
    },
    {
     "name": "stderr",
     "output_type": "stream",
     "text": [
      "100%|██████████| 8/8 [00:02<00:00,  2.88it/s]\n"
     ]
    },
    {
     "name": "stdout",
     "output_type": "stream",
     "text": [
      "EPOCH: 80, Loss: 0.06592769654733795\n"
     ]
    },
    {
     "name": "stderr",
     "output_type": "stream",
     "text": [
      "100%|██████████| 8/8 [00:02<00:00,  3.02it/s]\n"
     ]
    },
    {
     "name": "stdout",
     "output_type": "stream",
     "text": [
      "EPOCH: 81, Loss: 0.07421647384762764\n"
     ]
    },
    {
     "name": "stderr",
     "output_type": "stream",
     "text": [
      "100%|██████████| 8/8 [00:02<00:00,  3.04it/s]\n"
     ]
    },
    {
     "name": "stdout",
     "output_type": "stream",
     "text": [
      "EPOCH: 82, Loss: 0.06483594328165054\n"
     ]
    },
    {
     "name": "stderr",
     "output_type": "stream",
     "text": [
      "100%|██████████| 8/8 [00:02<00:00,  3.04it/s]\n"
     ]
    },
    {
     "name": "stdout",
     "output_type": "stream",
     "text": [
      "EPOCH: 83, Loss: 0.0639328882098198\n"
     ]
    },
    {
     "name": "stderr",
     "output_type": "stream",
     "text": [
      "100%|██████████| 8/8 [00:02<00:00,  3.04it/s]\n"
     ]
    },
    {
     "name": "stdout",
     "output_type": "stream",
     "text": [
      "EPOCH: 84, Loss: 0.06465347856283188\n"
     ]
    },
    {
     "name": "stderr",
     "output_type": "stream",
     "text": [
      "100%|██████████| 8/8 [00:02<00:00,  3.04it/s]\n"
     ]
    },
    {
     "name": "stdout",
     "output_type": "stream",
     "text": [
      "EPOCH: 85, Loss: 0.06486854915108\n"
     ]
    },
    {
     "name": "stderr",
     "output_type": "stream",
     "text": [
      "100%|██████████| 8/8 [00:02<00:00,  3.03it/s]\n"
     ]
    },
    {
     "name": "stdout",
     "output_type": "stream",
     "text": [
      "EPOCH: 86, Loss: 0.066049332597426\n"
     ]
    },
    {
     "name": "stderr",
     "output_type": "stream",
     "text": [
      "100%|██████████| 8/8 [00:02<00:00,  3.03it/s]\n"
     ]
    },
    {
     "name": "stdout",
     "output_type": "stream",
     "text": [
      "EPOCH: 87, Loss: 0.06363531414951597\n"
     ]
    },
    {
     "name": "stderr",
     "output_type": "stream",
     "text": [
      "100%|██████████| 8/8 [00:02<00:00,  2.86it/s]\n"
     ]
    },
    {
     "name": "stdout",
     "output_type": "stream",
     "text": [
      "EPOCH: 88, Loss: 0.06669084461671966\n"
     ]
    },
    {
     "name": "stderr",
     "output_type": "stream",
     "text": [
      "100%|██████████| 8/8 [00:02<00:00,  3.02it/s]\n"
     ]
    },
    {
     "name": "stdout",
     "output_type": "stream",
     "text": [
      "EPOCH: 89, Loss: 0.06344062994633402\n"
     ]
    },
    {
     "name": "stderr",
     "output_type": "stream",
     "text": [
      "100%|██████████| 8/8 [00:02<00:00,  3.04it/s]\n"
     ]
    },
    {
     "name": "stdout",
     "output_type": "stream",
     "text": [
      "EPOCH: 90, Loss: 0.06332623053874288\n"
     ]
    },
    {
     "name": "stderr",
     "output_type": "stream",
     "text": [
      "100%|██████████| 8/8 [00:02<00:00,  3.03it/s]\n"
     ]
    },
    {
     "name": "stdout",
     "output_type": "stream",
     "text": [
      "EPOCH: 91, Loss: 0.06108006675328527\n"
     ]
    },
    {
     "name": "stderr",
     "output_type": "stream",
     "text": [
      "100%|██████████| 8/8 [00:02<00:00,  3.04it/s]\n"
     ]
    },
    {
     "name": "stdout",
     "output_type": "stream",
     "text": [
      "EPOCH: 92, Loss: 0.0631772939647947\n"
     ]
    },
    {
     "name": "stderr",
     "output_type": "stream",
     "text": [
      "100%|██████████| 8/8 [00:02<00:00,  3.05it/s]\n"
     ]
    },
    {
     "name": "stdout",
     "output_type": "stream",
     "text": [
      "EPOCH: 93, Loss: 0.061637336654322486\n"
     ]
    },
    {
     "name": "stderr",
     "output_type": "stream",
     "text": [
      "100%|██████████| 8/8 [00:02<00:00,  3.04it/s]\n"
     ]
    },
    {
     "name": "stdout",
     "output_type": "stream",
     "text": [
      "EPOCH: 94, Loss: 0.0616306337927069\n"
     ]
    },
    {
     "name": "stderr",
     "output_type": "stream",
     "text": [
      "100%|██████████| 8/8 [00:02<00:00,  3.02it/s]\n"
     ]
    },
    {
     "name": "stdout",
     "output_type": "stream",
     "text": [
      "EPOCH: 95, Loss: 0.06371632910200528\n"
     ]
    },
    {
     "name": "stderr",
     "output_type": "stream",
     "text": [
      "100%|██████████| 8/8 [00:02<00:00,  2.88it/s]\n"
     ]
    },
    {
     "name": "stdout",
     "output_type": "stream",
     "text": [
      "EPOCH: 96, Loss: 0.06149886601737568\n"
     ]
    },
    {
     "name": "stderr",
     "output_type": "stream",
     "text": [
      "100%|██████████| 8/8 [00:02<00:00,  3.02it/s]\n"
     ]
    },
    {
     "name": "stdout",
     "output_type": "stream",
     "text": [
      "EPOCH: 97, Loss: 0.060793839395046234\n"
     ]
    },
    {
     "name": "stderr",
     "output_type": "stream",
     "text": [
      "100%|██████████| 8/8 [00:02<00:00,  3.00it/s]\n"
     ]
    },
    {
     "name": "stdout",
     "output_type": "stream",
     "text": [
      "EPOCH: 98, Loss: 0.06453026831150055\n"
     ]
    },
    {
     "name": "stderr",
     "output_type": "stream",
     "text": [
      "100%|██████████| 8/8 [00:02<00:00,  3.01it/s]\n"
     ]
    },
    {
     "name": "stdout",
     "output_type": "stream",
     "text": [
      "EPOCH: 99, Loss: 0.05898019192474229\n"
     ]
    }
   ],
   "source": [
    "#%% train\n",
    "num_epochs = 100\n",
    "losses = []\n",
    "best_loss = 1e10\n",
    "train_dataset = NpzDataset(npz_tr_path)\n",
    "train_dataloader = DataLoader(train_dataset, batch_size=64, shuffle=True)\n",
    "for epoch in range(num_epochs):\n",
    "    epoch_loss = 0\n",
    "    # train\n",
    "    for step, (image_embedding, gt2D, boxes) in enumerate(tqdm(train_dataloader)):\n",
    "        # do not compute gradients for image encoder and prompt encoder\n",
    "        with torch.no_grad():\n",
    "            # convert box to 1024x1024 grid\n",
    "            box_np = boxes.numpy()\n",
    "            sam_trans = ResizeLongestSide(sam_model.image_encoder.img_size)\n",
    "            box = sam_trans.apply_boxes(box_np, (gt2D.shape[-2], gt2D.shape[-1]))\n",
    "            box_torch = torch.as_tensor(box, dtype=torch.float, device=device)\n",
    "            if len(box_torch.shape) == 2:\n",
    "                box_torch = box_torch[:, None, :] # (B, 1, 4)\n",
    "            # get prompt embeddings \n",
    "            sparse_embeddings, dense_embeddings = sam_model.prompt_encoder(\n",
    "                points=None,\n",
    "                boxes=box_torch,\n",
    "                masks=None,\n",
    "            )\n",
    "        # predicted masks\n",
    "        mask_predictions, _ = sam_model.mask_decoder(\n",
    "            image_embeddings=image_embedding.to(device), # (B, 256, 64, 64)\n",
    "            image_pe=sam_model.prompt_encoder.get_dense_pe(), # (1, 256, 64, 64)\n",
    "            sparse_prompt_embeddings=sparse_embeddings, # (B, 2, 256)\n",
    "            dense_prompt_embeddings=dense_embeddings, # (B, 256, 64, 64)\n",
    "            multimask_output=False,\n",
    "          )\n",
    "\n",
    "        loss = seg_loss(mask_predictions, gt2D.to(device))\n",
    "        optimizer.zero_grad()\n",
    "        loss.backward()\n",
    "        optimizer.step()\n",
    "        epoch_loss += loss.item()\n",
    "    \n",
    "    epoch_loss /= step\n",
    "    losses.append(epoch_loss)\n",
    "    print(f'EPOCH: {epoch}, Loss: {epoch_loss}')\n",
    "    # save the latest model checkpoint\n",
    "    torch.save(sam_model.state_dict(), join(model_save_path, 'sam_model_latest.pth'))\n",
    "    # save the best model\n",
    "    if epoch_loss < best_loss:\n",
    "        best_loss = epoch_loss\n",
    "        torch.save(sam_model.state_dict(), join(model_save_path, 'sam_model_best.pth'))"
   ]
  },
  {
   "cell_type": "code",
   "execution_count": 159,
   "metadata": {},
   "outputs": [
    {
     "data": {
      "image/png": "[encoded data removed]",
      "text/plain": [
       "<Figure size 640x480 with 1 Axes>"
      ]
     },
     "metadata": {},
     "output_type": "display_data"
    }
   ],
   "source": [
    "# plot loss\n",
    "plt.plot(losses)\n",
    "plt.title('Dice + Cross Entropy Loss')\n",
    "plt.xlabel('Epoch')\n",
    "plt.ylabel('Loss')\n",
    "plt.show() # comment this line if you are running on a server\n",
    "plt.savefig(join(model_save_path, 'train_loss.png'))\n",
    "plt.close()"
   ]
  },
  {
   "cell_type": "code",
   "execution_count": 160,
   "metadata": {},
   "outputs": [],
   "source": [
    "def get_bbox_from_mask(mask):\n",
    "    '''Returns a bounding box from a mask'''\n",
    "    y_indices, x_indices = np.where(mask > 0)\n",
    "    x_min, x_max = np.min(x_indices), np.max(x_indices)\n",
    "    y_min, y_max = np.min(y_indices), np.max(y_indices)\n",
    "    # add perturbation to bounding box coordinates\n",
    "    H, W = mask.shape\n",
    "    x_min = max(0, x_min - np.random.randint(0, 20))\n",
    "    x_max = min(W, x_max + np.random.randint(0, 20))\n",
    "    y_min = max(0, y_min - np.random.randint(0, 20))\n",
    "    y_max = min(H, y_max + np.random.randint(0, 20))\n",
    "\n",
    "    return np.array([x_min, y_min, x_max, y_max])\n",
    "\n",
    "def extract_digits(string):\n",
    "    digits = re.findall(r'\\d{6}', string)\n",
    "    if digits:\n",
    "        first_part = digits[0][:4]\n",
    "        second_part = digits[0][-2:]\n",
    "        return first_part, second_part\n",
    "    else:\n",
    "        return None, None\n",
    "    \n",
    "def extract_same_first_elements(lst):\n",
    "    result = []\n",
    "    seen = set()\n",
    "    for sub_list in lst:\n",
    "        first_element = sub_list[0]\n",
    "        if first_element not in seen:\n",
    "            same_first_elements = [x for x in lst if x[0] == first_element]\n",
    "            result.append(same_first_elements)\n",
    "            seen.add(first_element)\n",
    "    return result"
   ]
  },
  {
   "cell_type": "code",
   "execution_count": 161,
   "metadata": {},
   "outputs": [],
   "source": [
    "from skimage import io\n",
    "ori_sam_model = sam_model_registry[model_type](checkpoint=checkpoint).to(device)\n",
    "ori_sam_predictor = SamPredictor(ori_sam_model)\n",
    "\n",
    "test_img_path = 'data/MedSAMDemo_2D/test/images'\n",
    "test_gt_path = 'data/MedSAMDemo_2D/test/labels'\n",
    "test_names = sorted(os.listdir(test_img_path))\n",
    "\n",
    "import re\n",
    "    \n",
    "splited_names = []\n",
    "for name in test_names : \n",
    "    splited_names.append(extract_digits(name))\n",
    "\n",
    "same_first_elements = extract_same_first_elements(splited_names)"
   ]
  },
  {
   "cell_type": "code",
   "execution_count": 162,
   "metadata": {},
   "outputs": [
    {
     "name": "stdout",
     "output_type": "stream",
     "text": [
      "idx_list :  [[0, 15], [16, 26], [27, 32], [33, 42], [43, 47], [48, 67], [68, 76], [77, 90], [91, 91], [92, 100], [101, 100]]\n",
      "count_list :  [0, 15, 26, 32, 42, 47, 67, 76, 90, 91, 100]\n"
     ]
    }
   ],
   "source": [
    "# print('전체 묶음 개수 : ', len(same_first_elements))\n",
    "\n",
    "'''image index 리스트 정렬'''\n",
    "sum = 0\n",
    "idx_list = []\n",
    "idx_list.append(0)\n",
    "count_list = []\n",
    "count_list.append(0)\n",
    "for a in same_first_elements : \n",
    "    # print(len(a))\n",
    "    sum = sum + len(a)\n",
    "    count_list.append(sum-1)\n",
    "    \n",
    "    idx_list.append(sum-1)\n",
    "    idx_list.append(sum)\n",
    "    # print(idx_list[-2:])\n",
    "    if a == same_first_elements[-1] : \n",
    "        idx_list.append(sum-1)\n",
    "\n",
    "\n",
    "# print(idx_list)\n",
    "idx_list = [idx_list[i:i+2] for i in range(0, len(idx_list), 2)]\n",
    "# print('총 개수 : ', sum)\n",
    "print('idx_list : ', idx_list)\n",
    "print('count_list : ', count_list)"
   ]
  },
  {
   "cell_type": "code",
   "execution_count": 171,
   "metadata": {},
   "outputs": [],
   "source": [
    "\n",
    "'''\n",
    "original SAM 모델추론. \n",
    "첫 데이터의 bbox 는 gt_data에서 bbox를 random 하게 얻기 . \n",
    "'''\n",
    "global ori_sam_seg\n",
    "global sam_box\n",
    "def original_inference(img_idx, image_data, test_gt_path = test_gt_path) : \n",
    "    global ori_sam_seg\n",
    "    global sam_box\n",
    "    gt_data = io.imread(join(test_gt_path, test_names[img_idx]))\n",
    "\n",
    "    if img_idx in count_list : \n",
    "        bbox_raw = get_bbox_from_mask(gt_data)\n",
    "    else : \n",
    "        bbox_raw = get_bbox_from_mask(ori_sam_seg)\n",
    "\n",
    "    sam_box = bbox_raw\n",
    "    # preprocess: cut-off and max-min normalization\n",
    "    lower_bound, upper_bound = np.percentile(image_data, 0.5), np.percentile(image_data, 99.5)\n",
    "    image_data_pre = np.clip(image_data, lower_bound, upper_bound)\n",
    "    image_data_pre = (image_data_pre - np.min(image_data_pre))/(np.max(image_data_pre)-np.min(image_data_pre))*255.0\n",
    "    image_data_pre[image_data==0] = 0\n",
    "    image_data_pre = np.uint8(image_data_pre)\n",
    "    H, W, _ = image_data_pre.shape\n",
    "\n",
    "    # predict the segmentation mask using the original SAM model\n",
    "    ori_sam_predictor.set_image(image_data_pre)\n",
    "    ori_sam_seg, _, _ = ori_sam_predictor.predict(point_coords=None, box=bbox_raw, multimask_output=False)\n",
    "    ori_sam_seg = ori_sam_seg.reshape((256, 256)).astype(np.uint8)\n",
    "    return ori_sam_seg, image_data_pre"
   ]
  },
  {
   "cell_type": "code",
   "execution_count": 172,
   "metadata": {},
   "outputs": [],
   "source": [
    "'''\n",
    "MedSAM으로 inference 수행하기 \n",
    "'''\n",
    "\n",
    "global medsam_seg\n",
    "global medsam_box\n",
    "def medsam_inference(image_data_pre, img_idx, test_gt_path = test_gt_path) : \n",
    "    global medsam_seg\n",
    "    global medsam_box\n",
    "    # predict the segmentation mask using the fine-tuned model\n",
    "    # resize image to 3*1024*1024\n",
    "    sam_transform = ResizeLongestSide(sam_model.image_encoder.img_size)\n",
    "    resize_img = sam_transform.apply_image(image_data_pre)\n",
    "    resize_img_tensor = torch.as_tensor(resize_img.transpose(2, 0, 1)).to(device)\n",
    "    input_image = sam_model.preprocess(resize_img_tensor[None,:,:,:]) # (1, 3, 1024, 1024)\n",
    "    assert input_image.shape == (1, 3, sam_model.image_encoder.img_size, sam_model.image_encoder.img_size), 'input image should be resized to 1024*1024'\n",
    "\n",
    "    #get bbox\n",
    "    gt_data = io.imread(join(test_gt_path, test_names[img_idx]))\n",
    "\n",
    "    if img_idx in count_list : \n",
    "        bbox_raw = get_bbox_from_mask(gt_data)\n",
    "    else : \n",
    "        bbox_raw = get_bbox_from_mask(medsam_seg)\n",
    "\n",
    "    medsam_box = bbox_raw\n",
    "    with torch.no_grad():\n",
    "        # pre-compute the image embedding\n",
    "        ts_img_embedding = sam_model.image_encoder(input_image)\n",
    "        # convert box to 1024x1024 grid\n",
    "        bbox = sam_trans.apply_boxes(bbox_raw, (H, W))\n",
    "        # print(f'{bbox_raw=} -> {bbox=}')\n",
    "        box_torch = torch.as_tensor(bbox, dtype=torch.float, device=device)\n",
    "        if len(box_torch.shape) == 2:\n",
    "            box_torch = box_torch[:, None, :] # (B, 4) -> (B, 1, 4)\n",
    "        \n",
    "        sparse_embeddings, dense_embeddings = sam_model.prompt_encoder(\n",
    "            points=None,\n",
    "            boxes=box_torch,\n",
    "            masks=None,\n",
    "        )\n",
    "        medsam_seg_prob, _ = sam_model.mask_decoder(\n",
    "            image_embeddings=ts_img_embedding.to(device), # (B, 256, 64, 64)\n",
    "            image_pe=sam_model.prompt_encoder.get_dense_pe(), # (1, 256, 64, 64)\n",
    "            sparse_prompt_embeddings=sparse_embeddings, # (B, 2, 256)\n",
    "            dense_prompt_embeddings=dense_embeddings, # (B, 256, 64, 64)\n",
    "            multimask_output=False,\n",
    "            )\n",
    "        medsam_seg_prob = torch.sigmoid(medsam_seg_prob)\n",
    "        # convert soft mask to hard mask\n",
    "        medsam_seg_prob = medsam_seg_prob.cpu().numpy().squeeze()\n",
    "        medsam_seg = (medsam_seg_prob > 0.5).astype(np.uint8)\n",
    "    \n",
    "    return medsam_seg\n",
    "    # print(medsam_seg.shape)"
   ]
  },
  {
   "cell_type": "code",
   "execution_count": 173,
   "metadata": {},
   "outputs": [],
   "source": [
    "'''\n",
    "image idx 선택 후 preprocess\n",
    "'''\n",
    "\n",
    "SAM_seg_result = []\n",
    "MEDSAM_seg_result = []\n",
    "\n",
    "for start, end in idx_list : \n",
    "    for i in range(start, end+1) :       \n",
    "        img_idx = i\n",
    "        image_data = io.imread(join(test_img_path, test_names[img_idx]))\n",
    "\n",
    "        if image_data.shape[-1]>3 and len(image_data.shape)==3:\n",
    "            image_data = image_data[:,:,:3]\n",
    "        if len(image_data.shape)==2:\n",
    "            image_data = np.repeat(image_data[:,:,None], 3, axis=-1)\n",
    "        \n",
    "        ori_sam_seg, image_data_pre = original_inference(img_idx, image_data)\n",
    "        medsam_seg = medsam_inference(image_data_pre, img_idx)\n",
    "\n",
    "        gt_data = io.imread(join(test_gt_path, test_names[img_idx]))\n",
    "        ori_sam_dsc = compute_dice_coefficient(gt_data>0, ori_sam_seg>0)\n",
    "        medsam_dsc = compute_dice_coefficient(gt_data>0, medsam_seg>0)\n",
    "        # print('Original SAM DSC: {:.4f}'.format(ori_sam_dsc), 'MedSAM DSC: {:.4f}'.format(medsam_dsc))\n",
    "\n",
    "        SAM_seg_result.append(ori_sam_dsc)\n",
    "        MEDSAM_seg_result.append(medsam_dsc)\n",
    "\n",
    "        "
   ]
  },
  {
   "cell_type": "code",
   "execution_count": 176,
   "metadata": {},
   "outputs": [
    {
     "name": "stdout",
     "output_type": "stream",
     "text": [
      "count :  11\n",
      "(array([ 2, 17, 30, 31, 34, 35, 36, 37, 38, 43, 44]),)\n",
      "SAM :  0.43097151205259315 , MEDSAM :  0.3164983164983165\n",
      "SAM :  0.09407665505226481 , MEDSAM :  0.0\n",
      "SAM :  0.024313153415998056 , MEDSAM :  0.0\n",
      "SAM :  0.07303689687795648 , MEDSAM :  0.0\n",
      "SAM :  0.0013360053440213762 , MEDSAM :  0.0\n",
      "SAM :  0.05660377358490566 , MEDSAM :  0.0\n",
      "SAM :  0.07970170123514332 , MEDSAM :  0.0\n",
      "SAM :  0.17648912700913963 , MEDSAM :  0.0\n",
      "SAM :  0.07382920110192838 , MEDSAM :  0.0\n",
      "SAM :  0.24542772861356932 , MEDSAM :  0.0\n",
      "SAM :  0.00772573635924674 , MEDSAM :  0.0\n",
      "SAM average :  0.23993523141433584 , MedSAM average :  0.6608319674249014\n"
     ]
    }
   ],
   "source": [
    "compete_result = (np.array(SAM_seg_result) - np.array(MEDSAM_seg_result)) > 0 \n",
    "counts = np.sum(compete_result== True)\n",
    "print('count : ', counts)\n",
    "index = np.where(compete_result == True)\n",
    "\n",
    "print(index)\n",
    "for i in index[0] : \n",
    "    print('SAM : ',  SAM_seg_result[i], ', MEDSAM : ', MEDSAM_seg_result[i] )\n",
    "\n",
    "\n",
    "SAM_avg = np.sum(SAM_seg_result)/len(SAM_seg_result)\n",
    "Med_avg = np.sum(MEDSAM_seg_result)/len(MEDSAM_seg_result)\n",
    "print('SAM average : ', SAM_avg, ', MedSAM average : ', Med_avg)\n"
   ]
  },
  {
   "cell_type": "code",
   "execution_count": 169,
   "metadata": {},
   "outputs": [
    {
     "data": {
      "text/plain": [
       "[0, 15, 26, 32, 42, 47, 67, 76, 90, 91, 100]"
      ]
     },
     "execution_count": 169,
     "metadata": {},
     "output_type": "execute_result"
    }
   ],
   "source": [
    "count_list"
   ]
  },
  {
   "cell_type": "code",
   "execution_count": 177,
   "metadata": {},
   "outputs": [],
   "source": [
    "'''\n",
    "하나씩 선택하는 함수\n",
    "'''\n",
    "\n",
    "global ori_sam_dsc\n",
    "global medsam_dsc\n",
    "def select_inference(index_num) : \n",
    "    global ori_sam_seg, medsam_seg    \n",
    "    global ori_sam_dsc, medsam_dsc\n",
    "    img_idx = index_num\n",
    "    image_data = io.imread(join(test_img_path, test_names[img_idx]))\n",
    "\n",
    "    if image_data.shape[-1]>3 and len(image_data.shape)==3:\n",
    "        image_data = image_data[:,:,:3]\n",
    "    if len(image_data.shape)==2:\n",
    "        image_data = np.repeat(image_data[:,:,None], 3, axis=-1)\n",
    "            \n",
    "    ori_sam_seg, image_data_pre = original_inference(img_idx, image_data)\n",
    "    medsam_seg = medsam_inference(image_data_pre, img_idx)\n",
    "\n",
    "    gt_data = io.imread(join(test_gt_path, test_names[img_idx]))\n",
    "    ori_sam_dsc = compute_dice_coefficient(gt_data>0, ori_sam_seg>0)\n",
    "    medsam_dsc = compute_dice_coefficient(gt_data>0, medsam_seg>0)\n",
    "    print('Original SAM DSC: {:.4f}'.format(ori_sam_dsc), 'MedSAM DSC: {:.4f}'.format(medsam_dsc))\n",
    "\n",
    "# SAM_seg_result.append(ori_sam_dsc)\n",
    "# MEDSAM_seg_result.append(medsam_dsc)"
   ]
  },
  {
   "cell_type": "code",
   "execution_count": 178,
   "metadata": {},
   "outputs": [],
   "source": [
    "#%% visualize the segmentation results of the middle slice\n",
    "# visualization functions\n",
    "# source: https://github.com/facebookresearch/segment-anything/blob/main/notebooks/predictor_example.ipynb\n",
    "# change color to avoid red and green\n",
    "def show_mask(mask, ax, random_color=False):\n",
    "    if random_color:\n",
    "        color = np.concatenate([np.random.random(3), np.array([0.6])], axis=0)\n",
    "    else:\n",
    "        color = np.array([251/255, 252/255, 30/255, 0.6])\n",
    "    h, w = mask.shape[-2:]\n",
    "    mask_image = mask.reshape(h, w, 1) * color.reshape(1, 1, -1)\n",
    "    ax.imshow(mask_image)\n",
    "    \n",
    "def show_box(box, ax):\n",
    "    x0, y0 = box[0], box[1]\n",
    "    w, h = box[2] - box[0], box[3] - box[1]\n",
    "    ax.add_patch(plt.Rectangle((x0, y0), w, h, edgecolor='blue', facecolor=(0,0,0,0), lw=2))    \n"
   ]
  },
  {
   "cell_type": "code",
   "execution_count": 179,
   "metadata": {},
   "outputs": [
    {
     "name": "stdout",
     "output_type": "stream",
     "text": [
      "[ 2 17 30 31 34 35 36 37 38 43 44]\n",
      "Original SAM DSC: 0.0000 MedSAM DSC: 0.8850\n"
     ]
    }
   ],
   "source": [
    "inversed_list = index[0]\n",
    "print(inversed_list)\n",
    "\n",
    "# select_inference(inversed_list[3])\n"
   ]
  },
  {
   "cell_type": "code",
   "execution_count": 180,
   "metadata": {},
   "outputs": [
    {
     "data": {
      "image/png": "[encoded data removed]",
      "text/plain": [
       "<Figure size 2500x2500 with 3 Axes>"
      ]
     },
     "metadata": {},
     "output_type": "display_data"
    }
   ],
   "source": [
    "\n",
    "_, axs = plt.subplots(1, 3, figsize=(25, 25))\n",
    "axs[0].imshow(image_data)\n",
    "show_mask(gt_data>0, axs[0])\n",
    "# show_box(box_np[img_id], axs[0])\n",
    "# axs[0].set_title('Mask with Tuned Model', fontsize=20)\n",
    "axs[0].axis('off')\n",
    "\n",
    "axs[1].imshow(image_data)\n",
    "show_mask(ori_sam_seg, axs[1])\n",
    "show_box(sam_box, axs[1])\n",
    "# add text to image to show dice score\n",
    "axs[1].text(0.5, 0.5, 'SAM DSC: {:.4f}'.format(ori_sam_dsc), fontsize=30, horizontalalignment='left', verticalalignment='top', color='yellow')\n",
    "# axs[1].set_title('Mask with Untuned Model', fontsize=20)\n",
    "axs[1].axis('off')\n",
    "\n",
    "axs[2].imshow(image_data)\n",
    "show_mask(medsam_seg, axs[2])\n",
    "show_box(medsam_box, axs[2])\n",
    "# add text to image to show dice score\n",
    "axs[2].text(0.5, 0.5, 'MedSAM DSC: {:.4f}'.format(medsam_dsc), fontsize=30, horizontalalignment='left', verticalalignment='top', color='yellow')\n",
    "# axs[2].set_title('Ground Truth', fontsize=20)\n",
    "axs[2].axis('off')\n",
    "plt.show()  \n",
    "plt.subplots_adjust(wspace=0.01, hspace=0)\n",
    "# save plot\n",
    "# plt.savefig(join(model_save_path, test_npzs[npz_idx].split('.npz')[0] + str(img_id).zfill(3) + '.png'), bbox_inches='tight', dpi=300)\n",
    "plt.close()"
   ]
  },
  {
   "cell_type": "code",
   "execution_count": null,
   "metadata": {},
   "outputs": [],
   "source": []
  },
  {
   "attachments": {},
   "cell_type": "markdown",
   "metadata": {},
   "source": [
    "여기서부터는 compare를 위한 부분"
   ]
  },
  {
   "cell_type": "code",
   "execution_count": 181,
   "metadata": {},
   "outputs": [
    {
     "name": "stdout",
     "output_type": "stream",
     "text": [
      "idx_list :  [[0, 15], [16, 26], [27, 32], [33, 42], [43, 47], [48, 67], [68, 76], [77, 90], [91, 91], [92, 100], [101, 100]]\n",
      "count_list :  [0, 15, 26, 32, 42, 47, 67, 76, 90, 91, 100]\n",
      "count :  4\n",
      "(array([14, 38, 82, 90]),)\n",
      "SAM :  0.8693957115009746 , MEDSAM :  0.855036855036855\n",
      "SAM :  0.8083441981747066 , MEDSAM :  0.7932011331444759\n",
      "SAM :  0.9058663028649386 , MEDSAM :  0.9022082018927445\n",
      "SAM :  0.6222222222222222 , MEDSAM :  0.3067484662576687\n",
      "SAM average :  0.6499213099392332 , MedSAM average :  0.8921760599271702\n"
     ]
    }
   ],
   "source": [
    "\n",
    "'''\n",
    "original SAM 모델추론. all boxes from gt\n",
    "'''\n",
    "# global ori_sam_seg\n",
    "# global sam_box\n",
    "def original_inference(img_idx, image_data, test_gt_path = test_gt_path) : \n",
    "    global ori_sam_seg\n",
    "    global sam_box\n",
    "    gt_data = io.imread(join(test_gt_path, test_names[img_idx]))\n",
    "\n",
    "    bbox_raw = get_bbox_from_mask(gt_data)\n",
    "\n",
    "    sam_box = bbox_raw\n",
    "    # preprocess: cut-off and max-min normalization\n",
    "    lower_bound, upper_bound = np.percentile(image_data, 0.5), np.percentile(image_data, 99.5)\n",
    "    image_data_pre = np.clip(image_data, lower_bound, upper_bound)\n",
    "    image_data_pre = (image_data_pre - np.min(image_data_pre))/(np.max(image_data_pre)-np.min(image_data_pre))*255.0\n",
    "    image_data_pre[image_data==0] = 0\n",
    "    image_data_pre = np.uint8(image_data_pre)\n",
    "    H, W, _ = image_data_pre.shape\n",
    "\n",
    "    # predict the segmentation mask using the original SAM model\n",
    "    ori_sam_predictor.set_image(image_data_pre)\n",
    "    ori_sam_seg, _, _ = ori_sam_predictor.predict(point_coords=None, box=bbox_raw, multimask_output=False)\n",
    "    ori_sam_seg = ori_sam_seg.reshape((256, 256)).astype(np.uint8)\n",
    "    return ori_sam_seg, image_data_pre\n",
    "\n",
    "def medsam_inference(image_data_pre, img_idx, test_gt_path = test_gt_path) : \n",
    "    global medsam_seg\n",
    "    global medsam_box\n",
    "    # predict the segmentation mask using the fine-tuned model\n",
    "    # resize image to 3*1024*1024\n",
    "    sam_transform = ResizeLongestSide(sam_model.image_encoder.img_size)\n",
    "    resize_img = sam_transform.apply_image(image_data_pre)\n",
    "    resize_img_tensor = torch.as_tensor(resize_img.transpose(2, 0, 1)).to(device)\n",
    "    input_image = sam_model.preprocess(resize_img_tensor[None,:,:,:]) # (1, 3, 1024, 1024)\n",
    "    assert input_image.shape == (1, 3, sam_model.image_encoder.img_size, sam_model.image_encoder.img_size), 'input image should be resized to 1024*1024'\n",
    "\n",
    "    #get bbox\n",
    "    gt_data = io.imread(join(test_gt_path, test_names[img_idx]))\n",
    "\n",
    "    bbox_raw = get_bbox_from_mask(gt_data)\n",
    "\n",
    "\n",
    "    medsam_box = bbox_raw\n",
    "    with torch.no_grad():\n",
    "        # pre-compute the image embedding\n",
    "        ts_img_embedding = sam_model.image_encoder(input_image)\n",
    "        # convert box to 1024x1024 grid\n",
    "        bbox = sam_trans.apply_boxes(bbox_raw, (H, W))\n",
    "        # print(f'{bbox_raw=} -> {bbox=}')\n",
    "        box_torch = torch.as_tensor(bbox, dtype=torch.float, device=device)\n",
    "        if len(box_torch.shape) == 2:\n",
    "            box_torch = box_torch[:, None, :] # (B, 4) -> (B, 1, 4)\n",
    "        \n",
    "        sparse_embeddings, dense_embeddings = sam_model.prompt_encoder(\n",
    "            points=None,\n",
    "            boxes=box_torch,\n",
    "            masks=None,\n",
    "        )\n",
    "        medsam_seg_prob, _ = sam_model.mask_decoder(\n",
    "            image_embeddings=ts_img_embedding.to(device), # (B, 256, 64, 64)\n",
    "            image_pe=sam_model.prompt_encoder.get_dense_pe(), # (1, 256, 64, 64)\n",
    "            sparse_prompt_embeddings=sparse_embeddings, # (B, 2, 256)\n",
    "            dense_prompt_embeddings=dense_embeddings, # (B, 256, 64, 64)\n",
    "            multimask_output=False,\n",
    "            )\n",
    "        medsam_seg_prob = torch.sigmoid(medsam_seg_prob)\n",
    "        # convert soft mask to hard mask\n",
    "        medsam_seg_prob = medsam_seg_prob.cpu().numpy().squeeze()\n",
    "        medsam_seg = (medsam_seg_prob > 0.5).astype(np.uint8)\n",
    "    \n",
    "    return medsam_seg\n",
    "\n",
    "\n",
    "\n",
    "from skimage import io\n",
    "ori_sam_model = sam_model_registry[model_type](checkpoint=checkpoint).to(device)\n",
    "ori_sam_predictor = SamPredictor(ori_sam_model)\n",
    "\n",
    "test_img_path = 'data/MedSAMDemo_2D/test/images'\n",
    "test_gt_path = 'data/MedSAMDemo_2D/test/labels'\n",
    "test_names = sorted(os.listdir(test_img_path))\n",
    "\n",
    "import re\n",
    "    \n",
    "splited_names = []\n",
    "for name in test_names : \n",
    "    splited_names.append(extract_digits(name))\n",
    "\n",
    "same_first_elements = extract_same_first_elements(splited_names)\n",
    "\n",
    "# print('전체 묶음 개수 : ', len(same_first_elements))\n",
    "\n",
    "'''image index 리스트 정렬'''\n",
    "sum = 0\n",
    "idx_list = []\n",
    "idx_list.append(0)\n",
    "count_list = []\n",
    "count_list.append(0)\n",
    "for a in same_first_elements : \n",
    "    # print(len(a))\n",
    "    sum = sum + len(a)\n",
    "    count_list.append(sum-1)\n",
    "    \n",
    "    idx_list.append(sum-1)\n",
    "    idx_list.append(sum)\n",
    "    # print(idx_list[-2:])\n",
    "    if a == same_first_elements[-1] : \n",
    "        idx_list.append(sum-1)\n",
    "\n",
    "\n",
    "# print(idx_list)\n",
    "idx_list = [idx_list[i:i+2] for i in range(0, len(idx_list), 2)]\n",
    "# print('총 개수 : ', sum)\n",
    "print('idx_list : ', idx_list)\n",
    "print('count_list : ', count_list)\n",
    "\n",
    "SAM_seg_result = []\n",
    "MEDSAM_seg_result = []\n",
    "\n",
    "for start, end in idx_list : \n",
    "    for i in range(start, end+1) :       \n",
    "        img_idx = i\n",
    "        image_data = io.imread(join(test_img_path, test_names[img_idx]))\n",
    "\n",
    "        if image_data.shape[-1]>3 and len(image_data.shape)==3:\n",
    "            image_data = image_data[:,:,:3]\n",
    "        if len(image_data.shape)==2:\n",
    "            image_data = np.repeat(image_data[:,:,None], 3, axis=-1)\n",
    "        \n",
    "        ori_sam_seg, image_data_pre = original_inference(img_idx, image_data)\n",
    "        medsam_seg = medsam_inference(image_data_pre, img_idx)\n",
    "\n",
    "        gt_data = io.imread(join(test_gt_path, test_names[img_idx]))\n",
    "        ori_sam_dsc = compute_dice_coefficient(gt_data>0, ori_sam_seg>0)\n",
    "        medsam_dsc = compute_dice_coefficient(gt_data>0, medsam_seg>0)\n",
    "        # print('Original SAM DSC: {:.4f}'.format(ori_sam_dsc), 'MedSAM DSC: {:.4f}'.format(medsam_dsc))\n",
    "\n",
    "        SAM_seg_result.append(ori_sam_dsc)\n",
    "        MEDSAM_seg_result.append(medsam_dsc)\n",
    "\n",
    "compete_result = (np.array(SAM_seg_result) - np.array(MEDSAM_seg_result)) > 0 \n",
    "counts = np.sum(compete_result== True)\n",
    "print('count : ', counts)\n",
    "index = np.where(compete_result == True)\n",
    "\n",
    "print(index)\n",
    "for i in index[0] : \n",
    "    print('SAM : ',  SAM_seg_result[i], ', MEDSAM : ', MEDSAM_seg_result[i] )\n",
    "\n",
    "SAM_avg = np.sum(SAM_seg_result)/len(SAM_seg_result)\n",
    "Med_avg = np.sum(MEDSAM_seg_result)/len(MEDSAM_seg_result)\n",
    "print('SAM average : ', SAM_avg, ', MedSAM average : ', Med_avg)\n"
   ]
  },
  {
   "cell_type": "code",
   "execution_count": 183,
   "metadata": {},
   "outputs": [
    {
     "name": "stdout",
     "output_type": "stream",
     "text": [
      "89.10891089108911\n",
      "96.03960396039604\n"
     ]
    }
   ],
   "source": [
    "\n",
    "proposed_method  = 100-(11/101*100)\n",
    "gt_method = 100-(4/101*100)\n",
    "print(proposed_method)\n",
    "print(gt_method)\n"
   ]
  },
  {
   "cell_type": "code",
   "execution_count": null,
   "metadata": {},
   "outputs": [],
   "source": []
  }
 ],
 "metadata": {
  "kernelspec": {
   "display_name": "medsam-demo",
   "language": "python",
   "name": "python3"
  },
  "language_info": {
   "codemirror_mode": {
    "name": "ipython",
    "version": 3
   },
   "file_extension": ".py",
   "mimetype": "text/x-python",
   "name": "python",
   "nbconvert_exporter": "python",
   "pygments_lexer": "ipython3",
   "version": "3.10.11"
  },
  "orig_nbformat": 4
 },
 "nbformat": 4,
 "nbformat_minor": 2
}
